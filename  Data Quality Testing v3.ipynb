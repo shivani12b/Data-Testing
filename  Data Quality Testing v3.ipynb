{
 "cells": [
  {
   "cell_type": "markdown",
   "id": "b2584188",
   "metadata": {},
   "source": [
    " ###Initialize Postgres Connection "
   ]
  },
  {
   "cell_type": "code",
   "execution_count": 1,
   "id": "5ca22d99",
   "metadata": {
    "scrolled": false
   },
   "outputs": [],
   "source": [
    "Access_Key = \"LMWLG31WZS\"\n",
    "Secret_Key = \"jxAvgFWSoZmFdlTpmKCv\"\n",
    "pipeline_number = 1314\n",
    "source_password = 'root'\n",
    "destination_password = 'demoDEMO1236'"
   ]
  },
  {
   "cell_type": "code",
   "execution_count": 2,
   "id": "cb4cfea3",
   "metadata": {},
   "outputs": [],
   "source": [
    "import requests\n",
    "import base64\n",
    "\n",
    "  \n",
    "sample_string = (Access_Key)+\":\"+(Secret_Key)\n",
    "sample_string_bytes = sample_string.encode(\"ascii\")\n",
    "  \n",
    "base64_bytes = base64.b64encode(sample_string_bytes)\n",
    "base64_string = base64_bytes.decode(\"ascii\")\n",
    "  \n",
    "#print(f\"Encoded string: {base64_string}\")\n",
    "\n",
    "url = 'https://us.hevodata.com/api/public/v2.0/pipelines/'+ str(pipeline_number)\n",
    "headers = {'Accept':'application/json','Authorization': 'Basic '+ base64_string}\n",
    "r = requests.get(url, headers=headers)\n"
   ]
  },
  {
   "cell_type": "code",
   "execution_count": 3,
   "id": "898929c8",
   "metadata": {},
   "outputs": [
    {
     "ename": "KeyError",
     "evalue": "'data'",
     "output_type": "error",
     "traceback": [
      "\u001b[0;31m---------------------------------------------------------------------------\u001b[0m",
      "\u001b[0;31mKeyError\u001b[0m                                  Traceback (most recent call last)",
      "\u001b[0;32m/var/folders/9z/3xcs6j1511xc_1dgnf9m22v40000gn/T/ipykernel_99499/4060644342.py\u001b[0m in \u001b[0;36m<module>\u001b[0;34m\u001b[0m\n\u001b[1;32m      5\u001b[0m \u001b[0;32mimport\u001b[0m \u001b[0mpandas\u001b[0m \u001b[0;32mas\u001b[0m \u001b[0mpd\u001b[0m\u001b[0;34m\u001b[0m\u001b[0;34m\u001b[0m\u001b[0m\n\u001b[1;32m      6\u001b[0m \u001b[0;34m\u001b[0m\u001b[0m\n\u001b[0;32m----> 7\u001b[0;31m \u001b[0;32mif\u001b[0m \u001b[0mr\u001b[0m\u001b[0;34m.\u001b[0m\u001b[0mjson\u001b[0m\u001b[0;34m(\u001b[0m\u001b[0;34m)\u001b[0m\u001b[0;34m[\u001b[0m\u001b[0;34m'data'\u001b[0m\u001b[0;34m]\u001b[0m\u001b[0;34m[\u001b[0m\u001b[0;34m'source'\u001b[0m\u001b[0;34m]\u001b[0m\u001b[0;34m[\u001b[0m\u001b[0;34m'type'\u001b[0m\u001b[0;34m]\u001b[0m\u001b[0;34m[\u001b[0m\u001b[0;34m'name'\u001b[0m\u001b[0;34m]\u001b[0m\u001b[0;34m==\u001b[0m\u001b[0;34m'MYSQL'\u001b[0m\u001b[0;34m:\u001b[0m\u001b[0;34m\u001b[0m\u001b[0;34m\u001b[0m\u001b[0m\n\u001b[0m\u001b[1;32m      8\u001b[0m     \u001b[0muser\u001b[0m \u001b[0;34m=\u001b[0m \u001b[0mr\u001b[0m\u001b[0;34m.\u001b[0m\u001b[0mjson\u001b[0m\u001b[0;34m(\u001b[0m\u001b[0;34m)\u001b[0m\u001b[0;34m[\u001b[0m\u001b[0;34m'data'\u001b[0m\u001b[0;34m]\u001b[0m\u001b[0;34m[\u001b[0m\u001b[0;34m'source'\u001b[0m\u001b[0;34m]\u001b[0m\u001b[0;34m[\u001b[0m\u001b[0;34m'config'\u001b[0m\u001b[0;34m]\u001b[0m\u001b[0;34m[\u001b[0m\u001b[0;34m'db_user'\u001b[0m\u001b[0;34m]\u001b[0m\u001b[0;34m\u001b[0m\u001b[0;34m\u001b[0m\u001b[0m\n\u001b[1;32m      9\u001b[0m     \u001b[0mpassword\u001b[0m \u001b[0;34m=\u001b[0m \u001b[0mr\u001b[0m\u001b[0;34m.\u001b[0m\u001b[0mjson\u001b[0m\u001b[0;34m(\u001b[0m\u001b[0;34m)\u001b[0m\u001b[0;34m[\u001b[0m\u001b[0;34m'data'\u001b[0m\u001b[0;34m]\u001b[0m\u001b[0;34m[\u001b[0m\u001b[0;34m'source'\u001b[0m\u001b[0;34m]\u001b[0m\u001b[0;34m[\u001b[0m\u001b[0;34m'config'\u001b[0m\u001b[0;34m]\u001b[0m\u001b[0;34m[\u001b[0m\u001b[0;34m'db_password'\u001b[0m\u001b[0;34m]\u001b[0m\u001b[0;34m\u001b[0m\u001b[0;34m\u001b[0m\u001b[0m\n",
      "\u001b[0;31mKeyError\u001b[0m: 'data'"
     ]
    }
   ],
   "source": [
    "import great_expectations as ge\n",
    "#import psycopg2 \n",
    "import pymysql\n",
    "import mysql.connector as mysql\n",
    "import pandas as pd\n",
    "\n",
    "if r.json()['data']['source']['type']['name']=='MYSQL':\n",
    "    user = r.json()['data']['source']['config']['db_user']\n",
    "    password = r.json()['data']['source']['config']['db_password']\n",
    "    port = r.json()['data']['source']['config']['db_port']\n",
    "    host = r.json()['data']['source']['config']['db_host']\n",
    "    db = r.json()['data']['source']['config']['db_names']\n",
    "    CONN=mysql.connect(host=str(host),user=str(user),passwd='root',db=db[0]) #case if many dbs are connected\n",
    "elif r.json()['data']['source']['type']['name']=='POSTGRES':\n",
    "    user = r.json()['data']['source']['config']['db_user']\n",
    "    password = r.json()['data']['source']['config']['db_password']\n",
    "    port = r.json()['data']['source']['config']['db_port']\n",
    "    host = r.json()['data']['source']['config']['db_host']\n",
    "    db = r.json()['data']['source']['config']['db_names']\n",
    "    CONN=psycopg2.connect(host=host,port=port,user=user,password='root',database=db)\n",
    "\n",
    "df = pd.read_sql_query(' SELECT count(1) as cnt FROM Ecommerce.Products',CONN)\n",
    "df.head(8)"
   ]
  },
  {
   "cell_type": "markdown",
   "id": "cd64cea7",
   "metadata": {},
   "source": [
    "Get count of tables"
   ]
  },
  {
   "cell_type": "code",
   "execution_count": null,
   "id": "9a980894",
   "metadata": {},
   "outputs": [],
   "source": [
    "import snowflake.connector\n",
    "import redshift_connector\n",
    "import pandas as pd\n",
    "\n",
    "if r.json()['data']['destination']['type']['name'] == 'SNOWFLAKE':\n",
    "    db_name = r.json()['data']['destination']['config']['db_name']\n",
    "    db_user = r.json()['data']['destination']['config']['db_user']\n",
    "    account_name = r.json()['data']['destination']['config']['account_name']\n",
    "    schema_name = r.json()['data']['destination']['config']['schema_name']\n",
    "    warehouse = r.json()['data']['destination']['config']['warehouse']\n",
    "    region = r.json()['data']['destination']['config']['region']\n",
    "    conn =  snowflake.connector.connect(user=str(db_user), password=str(destination_password), \n",
    "                                                    account=str(account_name) + \".\" + str(region), role='ACCOUNTADMIN', warehouse=warehouse,\n",
    "                                                    database = str(db_name), schema = str(schema_name))\n",
    "elif r.json()['data']['destination']['type']['name'] == 'REDSHIFT':    \n",
    "    db_name = r.json()['data']['destination']['config']['db_name']\n",
    "    db_host = r.json()['data']['destination']['config']['db_host']\n",
    "    db_user = r.json()['data']['destination']['config']['db_user']\n",
    "    db_port = r.json()['data']['destination']['config']['db_port']\n",
    "    conn = redshift_connector.connect(host=str(db_host),user=str(db_user),password='demoDEMO1236'\n",
    "                                 ,port=db_port,database=str(db_name))\n",
    "    df = pd.read_sql_query(' SELECT count(1) as cnt FROM Ecommerce.Products',CONN)"
   ]
  },
  {
   "cell_type": "code",
   "execution_count": null,
   "id": "79987eef",
   "metadata": {},
   "outputs": [],
   "source": [
    "url = \"https://us.hevodata.com/api/public/v2.0/pipelines/\"+str(pipeline_number)+\"/event-types?limit=100\"\n",
    "\n",
    "headers = {\n",
    "    \"Accept\": \"application/json\",\n",
    "    \"Authorization\": 'Basic '+ base64_string\n",
    "}\n",
    "\n",
    "response = requests.request(\"GET\", url, headers=headers)\n",
    "\n",
    "#print(response.json())\n",
    "table_count = (response.json()['pagination']['count'])\n",
    "source_tables = []\n",
    "for i in range(table_count):\n",
    "    source_tables.append(response.json()['data'][i]['event_type'])\n",
    "    \n",
    "print(source_tables)"
   ]
  },
  {
   "cell_type": "code",
   "execution_count": null,
   "id": "56f907d8",
   "metadata": {},
   "outputs": [],
   "source": [
    "source_row_count={}\n",
    "for table in source_tables:\n",
    "    source_row_count.setdefault(table,0)\n",
    "\n",
    "for i in source_row_count.keys():\n",
    "    dff = pd.read_sql_query(\"Select count(1) as cnt from Ecommerce.\"+i,CONN)\n",
    "    source_row_count[i]=dff['cnt'][0]\n",
    "source_row_count = {k.lower(): v for k,v in source_row_count.items()}\n",
    "source_row_count\n",
    "row_counts_1 = []\n",
    "for i in source_row_count.values():\n",
    "    row_counts_1.append(i)\n",
    "\n",
    "source_row_count\n",
    "final_df = pd.DataFrame(list(source_row_count.values()),index = list(source_row_count.keys()),columns=['source_count'])\n",
    "final_df.reset_index(level=0, inplace=True)\n",
    "final_df.rename(columns = {'index':'source_name'}, inplace = True)\n",
    "final_df.head()"
   ]
  },
  {
   "cell_type": "code",
   "execution_count": null,
   "id": "a1e378a6",
   "metadata": {},
   "outputs": [],
   "source": [
    "#Fetch Prefix??\n",
    "#print(source_tables)\n",
    "destination_tables=[]\n",
    "for i in source_tables:\n",
    "    url = \"https://us.hevodata.com/api/public/v2.0/pipelines/\"+str(pipeline_number)+\"/mappings/\" + i\n",
    "\n",
    "    headers = {\n",
    "        \"Accept\": \"application/json\",\n",
    "        \"Authorization\": 'Basic '+ base64_string\n",
    "    }\n",
    "    response = requests.request(\"GET\", url, headers=headers)\n",
    "    print(response.json()['data']['destination_table'])\n",
    "    response.json()\n",
    "    destination_tables.append(response.json()['data']['destination_table'])\n",
    "destination_tables\n",
    "\n"
   ]
  },
  {
   "cell_type": "code",
   "execution_count": null,
   "id": "7c925137",
   "metadata": {},
   "outputs": [],
   "source": [
    "url = \"https://us.hevodata.com/api/public/v2.0/pipelines/\"+str(pipeline_number)+\"/event-types?limit=100\"\n",
    "\n",
    "headers = {\n",
    "    \"Accept\": \"application/json\",\n",
    "    \"Authorization\": 'Basic '+ base64_string\n",
    "}\n",
    "\n",
    "response = requests.request(\"GET\", url, headers=headers)\n",
    "\n",
    "#print(response.json())\n",
    "table_count = (response.json()['pagination']['count'])\n",
    "#table_count\n",
    "\n",
    "source_tables = []\n",
    "for i in range(table_count):\n",
    "    source_tables.append(response.json()['data'][i]['event_type'])\n",
    "    \n",
    "print(source_tables)"
   ]
  },
  {
   "cell_type": "markdown",
   "id": "4e5c6bf3",
   "metadata": {},
   "source": []
  },
  {
   "cell_type": "code",
   "execution_count": null,
   "id": "ad938228",
   "metadata": {},
   "outputs": [],
   "source": [
    "destination_row_count={}\n",
    "for table in destination_tables:\n",
    "    destination_row_count.setdefault(table,0)\n",
    "\n",
    "\n",
    "for i in destination_row_count.keys():\n",
    "    dff = pd.read_sql_query(\"Select count(1)  from demo.public.\"+i,conn)\n",
    "    destination_row_count[i]=dff.iloc[0][0]\n",
    "row_counts_2=[]\n",
    "for i in destination_row_count.values():\n",
    "    row_counts_2.append(i)\n",
    "row_counts_2\n",
    "destination_row_count\n"
   ]
  },
  {
   "cell_type": "code",
   "execution_count": null,
   "id": "a6be52a1",
   "metadata": {},
   "outputs": [],
   "source": [
    "dest_df = pd.DataFrame(list(destination_row_count.values()),index = list(destination_row_count.keys()),columns=['dest_count'])\n",
    "dest_df.reset_index(level=0, inplace=True)\n",
    "dest_df.rename(columns = {'index':'destination_name'}, inplace = True)\n",
    "dest_df.head()"
   ]
  },
  {
   "cell_type": "code",
   "execution_count": 6,
   "id": "90e55416",
   "metadata": {},
   "outputs": [
    {
     "ename": "NameError",
     "evalue": "name 'final_df' is not defined",
     "output_type": "error",
     "traceback": [
      "\u001b[0;31m---------------------------------------------------------------------------\u001b[0m",
      "\u001b[0;31mNameError\u001b[0m                                 Traceback (most recent call last)",
      "\u001b[0;32m/var/folders/9z/3xcs6j1511xc_1dgnf9m22v40000gn/T/ipykernel_99499/31819556.py\u001b[0m in \u001b[0;36m<module>\u001b[0;34m\u001b[0m\n\u001b[0;32m----> 1\u001b[0;31m \u001b[0mfinaldf\u001b[0m \u001b[0;34m=\u001b[0m \u001b[0mpd\u001b[0m\u001b[0;34m.\u001b[0m\u001b[0mconcat\u001b[0m\u001b[0;34m(\u001b[0m\u001b[0;34m[\u001b[0m\u001b[0mfinal_df\u001b[0m\u001b[0;34m,\u001b[0m \u001b[0mdest_df\u001b[0m\u001b[0;34m]\u001b[0m\u001b[0;34m,\u001b[0m\u001b[0maxis\u001b[0m\u001b[0;34m=\u001b[0m\u001b[0;36m1\u001b[0m\u001b[0;34m)\u001b[0m\u001b[0;34m\u001b[0m\u001b[0;34m\u001b[0m\u001b[0m\n\u001b[0m\u001b[1;32m      2\u001b[0m \u001b[0mfinaldf\u001b[0m\u001b[0;34m.\u001b[0m\u001b[0mhead\u001b[0m\u001b[0;34m(\u001b[0m\u001b[0;34m)\u001b[0m\u001b[0;34m\u001b[0m\u001b[0;34m\u001b[0m\u001b[0m\n\u001b[1;32m      3\u001b[0m \u001b[0mfinaldf\u001b[0m\u001b[0;34m[\u001b[0m\u001b[0;34m'diff'\u001b[0m\u001b[0;34m]\u001b[0m \u001b[0;34m=\u001b[0m \u001b[0mfinaldf\u001b[0m\u001b[0;34m[\u001b[0m\u001b[0;34m'source_count'\u001b[0m\u001b[0;34m]\u001b[0m \u001b[0;34m-\u001b[0m \u001b[0mfinaldf\u001b[0m\u001b[0;34m[\u001b[0m\u001b[0;34m'dest_count'\u001b[0m\u001b[0;34m]\u001b[0m\u001b[0;34m\u001b[0m\u001b[0;34m\u001b[0m\u001b[0m\n\u001b[1;32m      4\u001b[0m \u001b[0mfinaldf\u001b[0m\u001b[0;34m.\u001b[0m\u001b[0mto_csv\u001b[0m\u001b[0;34m(\u001b[0m\u001b[0;34m'results.csv'\u001b[0m\u001b[0;34m,\u001b[0m\u001b[0mindex\u001b[0m \u001b[0;34m=\u001b[0m \u001b[0;32mFalse\u001b[0m\u001b[0;34m)\u001b[0m\u001b[0;34m\u001b[0m\u001b[0;34m\u001b[0m\u001b[0m\n",
      "\u001b[0;31mNameError\u001b[0m: name 'final_df' is not defined"
     ]
    }
   ],
   "source": [
    "finaldf = pd.concat([final_df, dest_df],axis=1)\n",
    "finaldf.head()\n",
    "finaldf['diff'] = finaldf['source_count'] - finaldf['dest_count']\n",
    "finaldf.to_csv('results.csv',index = False)"
   ]
  },
  {
   "cell_type": "code",
   "execution_count": null,
   "id": "dc5708b3",
   "metadata": {},
   "outputs": [],
   "source": []
  }
 ],
 "metadata": {
  "kernelspec": {
   "display_name": "Python 3 (ipykernel)",
   "language": "python",
   "name": "python3"
  },
  "language_info": {
   "codemirror_mode": {
    "name": "ipython",
    "version": 3
   },
   "file_extension": ".py",
   "mimetype": "text/x-python",
   "name": "python",
   "nbconvert_exporter": "python",
   "pygments_lexer": "ipython3",
   "version": "3.10.1"
  }
 },
 "nbformat": 4,
 "nbformat_minor": 5
}
