{
 "cells": [
  {
   "cell_type": "markdown",
   "id": "b2584188",
   "metadata": {},
   "source": [
    " ###Initialize Postgres Connection "
   ]
  },
  {
   "cell_type": "code",
   "execution_count": 34,
   "id": "5ca22d99",
   "metadata": {
    "scrolled": false
   },
   "outputs": [
    {
     "data": {
      "text/plain": [
       "<connection object at 0x17239dbd0; dsn: 'user=root password=xxx dbname=Ecommerce host=solutions-demodb.hevo.me port=5432', closed: 0>"
      ]
     },
     "execution_count": 34,
     "metadata": {},
     "output_type": "execute_result"
    }
   ],
   "source": [
    "import great_expectations as ge\n",
    "\n",
    "import psycopg2 \n",
    "\n",
    "import pandas as pd\n",
    "\n",
    "conn=psycopg2.connect(host='solutions-demodb.hevo.me',port=5432,user='root',password='root',database='Ecommerce')\n",
    "conn"
   ]
  },
  {
   "cell_type": "raw",
   "id": "4e270424",
   "metadata": {},
   "source": []
  },
  {
   "cell_type": "code",
   "execution_count": 39,
   "id": "898929c8",
   "metadata": {},
   "outputs": [
    {
     "data": {
      "text/html": [
       "<div>\n",
       "<style scoped>\n",
       "    .dataframe tbody tr th:only-of-type {\n",
       "        vertical-align: middle;\n",
       "    }\n",
       "\n",
       "    .dataframe tbody tr th {\n",
       "        vertical-align: top;\n",
       "    }\n",
       "\n",
       "    .dataframe thead th {\n",
       "        text-align: right;\n",
       "    }\n",
       "</style>\n",
       "<table border=\"1\" class=\"dataframe\">\n",
       "  <thead>\n",
       "    <tr style=\"text-align: right;\">\n",
       "      <th></th>\n",
       "      <th>table_name</th>\n",
       "    </tr>\n",
       "  </thead>\n",
       "  <tbody>\n",
       "    <tr>\n",
       "      <th>0</th>\n",
       "      <td>products</td>\n",
       "    </tr>\n",
       "    <tr>\n",
       "      <th>1</th>\n",
       "      <td>users</td>\n",
       "    </tr>\n",
       "    <tr>\n",
       "      <th>2</th>\n",
       "      <td>useraddress</td>\n",
       "    </tr>\n",
       "    <tr>\n",
       "      <th>3</th>\n",
       "      <td>orders</td>\n",
       "    </tr>\n",
       "  </tbody>\n",
       "</table>\n",
       "</div>"
      ],
      "text/plain": [
       "    table_name\n",
       "0     products\n",
       "1        users\n",
       "2  useraddress\n",
       "3       orders"
      ]
     },
     "execution_count": 39,
     "metadata": {},
     "output_type": "execute_result"
    }
   ],
   "source": [
    "df1 = pd.read_sql_query(\"SELECT table_name  FROM information_schema.tables where table_schema='public'  \",conn)\n",
    "#df1.head(10)"
   ]
  },
  {
   "cell_type": "markdown",
   "id": "cd64cea7",
   "metadata": {},
   "source": [
    "Get count of tables"
   ]
  },
  {
   "cell_type": "code",
   "execution_count": 40,
   "id": "9a980894",
   "metadata": {},
   "outputs": [
    {
     "name": "stdout",
     "output_type": "stream",
     "text": [
      "products\n",
      "users\n",
      "useraddress\n",
      "orders\n"
     ]
    },
    {
     "data": {
      "text/plain": [
       "['products', 'users', 'useraddress', 'orders']"
      ]
     },
     "execution_count": 40,
     "metadata": {},
     "output_type": "execute_result"
    }
   ],
   "source": [
    "Table_Names=[]\n",
    "for i,row in df1.iterrows():\n",
    "    for j,column in row.iteritems():\n",
    "        print (column)\n",
    "        Table_Names.append(column)\n",
    "Table_Names"
   ]
  },
  {
   "cell_type": "code",
   "execution_count": 41,
   "id": "79987eef",
   "metadata": {},
   "outputs": [
    {
     "name": "stdout",
     "output_type": "stream",
     "text": [
      "products\n",
      "500\n",
      "users\n",
      "500\n",
      "useraddress\n",
      "500\n",
      "orders\n",
      "0\n"
     ]
    }
   ],
   "source": [
    "for i in range(len(Table_Names)):\n",
    "    dff = pd.read_sql_query(\"Select * from public.\"+Table_Names[i],conn)\n",
    "    print(Table_Names[i])\n",
    "    print(dff.shape[0])"
   ]
  },
  {
   "cell_type": "code",
   "execution_count": null,
   "id": "56f907d8",
   "metadata": {},
   "outputs": [],
   "source": []
  },
  {
   "cell_type": "code",
   "execution_count": null,
   "id": "a1e378a6",
   "metadata": {},
   "outputs": [],
   "source": []
  },
  {
   "cell_type": "markdown",
   "id": "4e5c6bf3",
   "metadata": {},
   "source": [
    "### Initialize Redshift Connection"
   ]
  },
  {
   "cell_type": "code",
   "execution_count": 18,
   "id": "ad938228",
   "metadata": {},
   "outputs": [],
   "source": [
    "import redshift_connector"
   ]
  },
  {
   "cell_type": "code",
   "execution_count": 19,
   "id": "b10fc819",
   "metadata": {},
   "outputs": [
    {
     "data": {
      "text/plain": [
       "<redshift_connector.core.Connection at 0x16a912b30>"
      ]
     },
     "execution_count": 19,
     "metadata": {},
     "output_type": "execute_result"
    }
   ],
   "source": [
    "conn = redshift_connector.connect(host='demoredshift.hevo.me',user='demo',password='demoDEMO1236'\n",
    "                                 ,port=5439,database='demo')\n",
    "conn"
   ]
  },
  {
   "cell_type": "code",
   "execution_count": 20,
   "id": "5fa4c97e",
   "metadata": {},
   "outputs": [
    {
     "data": {
      "text/html": [
       "<div>\n",
       "<style scoped>\n",
       "    .dataframe tbody tr th:only-of-type {\n",
       "        vertical-align: middle;\n",
       "    }\n",
       "\n",
       "    .dataframe tbody tr th {\n",
       "        vertical-align: top;\n",
       "    }\n",
       "\n",
       "    .dataframe thead th {\n",
       "        text-align: right;\n",
       "    }\n",
       "</style>\n",
       "<table border=\"1\" class=\"dataframe\">\n",
       "  <thead>\n",
       "    <tr style=\"text-align: right;\">\n",
       "      <th></th>\n",
       "      <th>b'tablename'</th>\n",
       "    </tr>\n",
       "  </thead>\n",
       "  <tbody>\n",
       "    <tr>\n",
       "      <th>0</th>\n",
       "      <td>mysql_data_ecommerce_orders</td>\n",
       "    </tr>\n",
       "    <tr>\n",
       "      <th>1</th>\n",
       "      <td>mysql_data_ecommerce_products</td>\n",
       "    </tr>\n",
       "    <tr>\n",
       "      <th>2</th>\n",
       "      <td>mysql_data_ecommerce_student</td>\n",
       "    </tr>\n",
       "    <tr>\n",
       "      <th>3</th>\n",
       "      <td>mysql_data_ecommerce_useraddress</td>\n",
       "    </tr>\n",
       "    <tr>\n",
       "      <th>4</th>\n",
       "      <td>mysql_data_ecommerce_users</td>\n",
       "    </tr>\n",
       "  </tbody>\n",
       "</table>\n",
       "</div>"
      ],
      "text/plain": [
       "                       b'tablename'\n",
       "0       mysql_data_ecommerce_orders\n",
       "1     mysql_data_ecommerce_products\n",
       "2      mysql_data_ecommerce_student\n",
       "3  mysql_data_ecommerce_useraddress\n",
       "4        mysql_data_ecommerce_users"
      ]
     },
     "execution_count": 20,
     "metadata": {},
     "output_type": "execute_result"
    }
   ],
   "source": [
    "df2 = pd.read_sql_query(\"select distinct tablename \\\n",
    "                         from pg_table_def where schemaname='public' and tablename  like 'mysql_data%' \",conn)\n",
    "df2.head(20)"
   ]
  },
  {
   "cell_type": "code",
   "execution_count": 46,
   "id": "766a3228",
   "metadata": {},
   "outputs": [
    {
     "data": {
      "text/plain": [
       "{'orders': 0, 'products': 0, 'student': 0, 'useraddress': 0, 'users': 0}"
      ]
     },
     "execution_count": 46,
     "metadata": {},
     "output_type": "execute_result"
    }
   ],
   "source": [
    "Table_Names1={}\n",
    "for i,row in df2.iterrows():\n",
    "    for j,column in row.iteritems():\n",
    "        #print (column)\n",
    "        Table_Names1.setdefault(column[len('mysql_data_ecommerce_'):],0)\n",
    "Table_Names1       "
   ]
  },
  {
   "cell_type": "code",
   "execution_count": 48,
   "id": "837459cb",
   "metadata": {},
   "outputs": [
    {
     "name": "stdout",
     "output_type": "stream",
     "text": [
      "orders\n",
      "55\n",
      "products\n",
      "272\n",
      "student\n",
      "5\n",
      "useraddress\n",
      "273\n",
      "users\n",
      "513\n"
     ]
    },
    {
     "data": {
      "text/plain": [
       "{'orders': 55, 'products': 272, 'student': 5, 'useraddress': 273, 'users': 513}"
      ]
     },
     "execution_count": 48,
     "metadata": {},
     "output_type": "execute_result"
    }
   ],
   "source": [
    "for i in Table_Names1.keys():\n",
    "    df3 = pd.read_sql_query(\"Select * from demo.public.mysql_data_ecommerce_\"+i,conn)\n",
    "    print(i)\n",
    "    print(df3.shape[0])\n",
    "    Table_Names1[i]=df3.shape[0]\n",
    "Table_Names1  "
   ]
  },
  {
   "cell_type": "code",
   "execution_count": null,
   "id": "93154259",
   "metadata": {},
   "outputs": [],
   "source": []
  },
  {
   "cell_type": "markdown",
   "id": "d9a92ba9",
   "metadata": {},
   "source": [
    "### MYSQL "
   ]
  },
  {
   "cell_type": "code",
   "execution_count": 3,
   "id": "a85f91f0",
   "metadata": {},
   "outputs": [],
   "source": [
    "import mysql.connector as mysql\n",
    "import pandas as pd"
   ]
  },
  {
   "cell_type": "code",
   "execution_count": 4,
   "id": "11793eca",
   "metadata": {},
   "outputs": [],
   "source": [
    "db = mysql.connect(\n",
    "    host = \"solutions-demodb.hevo.me\",\n",
    "    user = \"root\",\n",
    "    passwd = \"root\",\n",
    "    database='Ecommerce'\n",
    ")\n"
   ]
  },
  {
   "cell_type": "code",
   "execution_count": 5,
   "id": "26ae9b90",
   "metadata": {},
   "outputs": [
    {
     "data": {
      "text/html": [
       "<div>\n",
       "<style scoped>\n",
       "    .dataframe tbody tr th:only-of-type {\n",
       "        vertical-align: middle;\n",
       "    }\n",
       "\n",
       "    .dataframe tbody tr th {\n",
       "        vertical-align: top;\n",
       "    }\n",
       "\n",
       "    .dataframe thead th {\n",
       "        text-align: right;\n",
       "    }\n",
       "</style>\n",
       "<table border=\"1\" class=\"dataframe\">\n",
       "  <thead>\n",
       "    <tr style=\"text-align: right;\">\n",
       "      <th></th>\n",
       "      <th>ID</th>\n",
       "      <th>sku</th>\n",
       "      <th>category</th>\n",
       "      <th>description</th>\n",
       "      <th>price</th>\n",
       "      <th>isActive</th>\n",
       "      <th>lastUpdated</th>\n",
       "      <th>countryOfOrigin</th>\n",
       "    </tr>\n",
       "  </thead>\n",
       "  <tbody>\n",
       "    <tr>\n",
       "      <th>0</th>\n",
       "      <td>2</td>\n",
       "      <td>94-627-4318</td>\n",
       "      <td>Beverage</td>\n",
       "      <td>Automotive</td>\n",
       "      <td>641.0</td>\n",
       "      <td>0.0</td>\n",
       "      <td>2020-10-15</td>\n",
       "      <td>India</td>\n",
       "    </tr>\n",
       "    <tr>\n",
       "      <th>1</th>\n",
       "      <td>3</td>\n",
       "      <td>74-796-0764</td>\n",
       "      <td>Electronics</td>\n",
       "      <td>Computers</td>\n",
       "      <td>553.0</td>\n",
       "      <td>0.0</td>\n",
       "      <td>2020-12-08</td>\n",
       "      <td>India</td>\n",
       "    </tr>\n",
       "    <tr>\n",
       "      <th>2</th>\n",
       "      <td>4</td>\n",
       "      <td>49-352-4119</td>\n",
       "      <td>Shoes</td>\n",
       "      <td>Toys</td>\n",
       "      <td>758.0</td>\n",
       "      <td>0.0</td>\n",
       "      <td>2021-05-29</td>\n",
       "      <td>India</td>\n",
       "    </tr>\n",
       "    <tr>\n",
       "      <th>3</th>\n",
       "      <td>5</td>\n",
       "      <td>04-081-4946</td>\n",
       "      <td>Electronics</td>\n",
       "      <td>Grocery</td>\n",
       "      <td>335.0</td>\n",
       "      <td>1.0</td>\n",
       "      <td>2021-02-11</td>\n",
       "      <td>India</td>\n",
       "    </tr>\n",
       "    <tr>\n",
       "      <th>4</th>\n",
       "      <td>6</td>\n",
       "      <td>46-404-3883</td>\n",
       "      <td>Beverage</td>\n",
       "      <td>Electronics</td>\n",
       "      <td>782.0</td>\n",
       "      <td>1.0</td>\n",
       "      <td>2020-06-09</td>\n",
       "      <td>India</td>\n",
       "    </tr>\n",
       "  </tbody>\n",
       "</table>\n",
       "</div>"
      ],
      "text/plain": [
       "   ID          sku     category  description  price  isActive lastUpdated  \\\n",
       "0   2  94-627-4318     Beverage   Automotive  641.0       0.0  2020-10-15   \n",
       "1   3  74-796-0764  Electronics    Computers  553.0       0.0  2020-12-08   \n",
       "2   4  49-352-4119        Shoes         Toys  758.0       0.0  2021-05-29   \n",
       "3   5  04-081-4946  Electronics      Grocery  335.0       1.0  2021-02-11   \n",
       "4   6  46-404-3883     Beverage  Electronics  782.0       1.0  2020-06-09   \n",
       "\n",
       "  countryOfOrigin  \n",
       "0           India  \n",
       "1           India  \n",
       "2           India  \n",
       "3           India  \n",
       "4           India  "
      ]
     },
     "execution_count": 5,
     "metadata": {},
     "output_type": "execute_result"
    }
   ],
   "source": [
    "df = pd.read_sql_query(' SELECT * FROM Ecommerce.Products',db)\n",
    "df.head(5)"
   ]
  },
  {
   "cell_type": "code",
   "execution_count": 81,
   "id": "13d46fe8",
   "metadata": {},
   "outputs": [
    {
     "data": {
      "text/plain": [
       "{'Products': 0,\n",
       " 'Student': 0,\n",
       " 'Users': 0,\n",
       " 'accounts': 0,\n",
       " 'orders': 0,\n",
       " 'userAddress': 0}"
      ]
     },
     "execution_count": 81,
     "metadata": {},
     "output_type": "execute_result"
    }
   ],
   "source": [
    "dff = pd.read_sql_query('show tables',db)\n",
    "Table_Names2={}\n",
    "for i,row in dff.iterrows():\n",
    "    for j,column in row.iteritems():\n",
    "        #print (column)\n",
    "        Table_Names2.setdefault(column,0)\n",
    "Table_Names2"
   ]
  },
  {
   "cell_type": "code",
   "execution_count": 82,
   "id": "32bcd79c",
   "metadata": {},
   "outputs": [
    {
     "data": {
      "text/plain": [
       "{'Products': 0,\n",
       " 'Student': 0,\n",
       " 'Users': 0,\n",
       " 'accounts': 0,\n",
       " 'orders': 0,\n",
       " 'userAddress': 0}"
      ]
     },
     "execution_count": 82,
     "metadata": {},
     "output_type": "execute_result"
    }
   ],
   "source": [
    "Table_Names2"
   ]
  },
  {
   "cell_type": "code",
   "execution_count": 89,
   "id": "f6e06ec8",
   "metadata": {},
   "outputs": [
    {
     "name": "stdout",
     "output_type": "stream",
     "text": [
      "Products\n",
      "504\n",
      "Student\n",
      "5\n",
      "Users\n",
      "513\n",
      "accounts\n",
      "0\n",
      "orders\n",
      "106\n",
      "userAddress\n",
      "505\n"
     ]
    },
    {
     "data": {
      "text/plain": [
       "{'products': 504,\n",
       " 'student': 5,\n",
       " 'users': 513,\n",
       " 'accounts': 0,\n",
       " 'orders': 106,\n",
       " 'useraddress': 505}"
      ]
     },
     "execution_count": 89,
     "metadata": {},
     "output_type": "execute_result"
    }
   ],
   "source": [
    "for i in Table_Names2.keys():\n",
    "    dff = pd.read_sql_query(\"Select * from Ecommerce.\"+i,db)\n",
    "    #print(i)\n",
    "    #print(dff.shape[0])\n",
    "    Table_Names2[i]=dff.shape[0]\n",
    "#Table_Names2 \n",
    "Table_Names2 = {k.lower(): v for k,v in Table_Names2.items()}\n",
    "Table_Names2"
   ]
  },
  {
   "cell_type": "markdown",
   "id": "14110444",
   "metadata": {},
   "source": [
    "###plotting"
   ]
  },
  {
   "cell_type": "code",
   "execution_count": 28,
   "id": "5b319014",
   "metadata": {},
   "outputs": [],
   "source": [
    "import matplotlib.pyplot as plt\n",
    "import numpy as np"
   ]
  },
  {
   "cell_type": "code",
   "execution_count": 40,
   "id": "005853cb",
   "metadata": {},
   "outputs": [
    {
     "name": "stdout",
     "output_type": "stream",
     "text": [
      "[504, 5, 513, 0, 106, 505] [55, 272, 0, 273, 513]\n"
     ]
    }
   ],
   "source": []
  },
  {
   "cell_type": "code",
   "execution_count": 50,
   "id": "7ae3cd22",
   "metadata": {},
   "outputs": [
    {
     "name": "stdout",
     "output_type": "stream",
     "text": [
      "{'Products': 504, 'Student': 5, 'Users': 513, 'accounts': 0, 'orders': 106, 'userAddress': 505} \n",
      " {'orders': 55, 'products': 272, 'student': 5, 'useraddress': 273, 'users': 513}\n"
     ]
    }
   ],
   "source": [
    "print(Table_Names2,'\\n',Table_Names1)"
   ]
  },
  {
   "cell_type": "code",
   "execution_count": 58,
   "id": "adde5cfb",
   "metadata": {},
   "outputs": [
    {
     "data": {
      "text/plain": [
       "{'orders': 55,\n",
       " 'products': 272,\n",
       " 'student': 5,\n",
       " 'useraddress': 273,\n",
       " 'users': 513,\n",
       " 'accounts': 0}"
      ]
     },
     "execution_count": 58,
     "metadata": {},
     "output_type": "execute_result"
    }
   ],
   "source": [
    "# add tables in dest with 0 count in source\n",
    "for i in Table_Names2.keys():\n",
    "    if Table_Names2[i]==0:\n",
    "        Table_Names1[i]=0\n",
    "Table_Names1"
   ]
  },
  {
   "cell_type": "code",
   "execution_count": 91,
   "id": "b3ced4a0",
   "metadata": {},
   "outputs": [
    {
     "data": {
      "text/plain": [
       "{'orders': 55,\n",
       " 'products': 272,\n",
       " 'student': 5,\n",
       " 'useraddress': 273,\n",
       " 'users': 513,\n",
       " 'accounts': 0}"
      ]
     },
     "execution_count": 91,
     "metadata": {},
     "output_type": "execute_result"
    }
   ],
   "source": [
    "sorted(Table_Names1.keys())\n",
    "Table_Names1"
   ]
  },
  {
   "cell_type": "code",
   "execution_count": 93,
   "id": "7cbf3eb8",
   "metadata": {},
   "outputs": [
    {
     "data": {
      "text/plain": [
       "{'products': 504,\n",
       " 'student': 5,\n",
       " 'users': 513,\n",
       " 'accounts': 0,\n",
       " 'orders': 106,\n",
       " 'useraddress': 505}"
      ]
     },
     "execution_count": 93,
     "metadata": {},
     "output_type": "execute_result"
    }
   ],
   "source": [
    "sorted(Table_Names2.keys())\n",
    "Table_Names2"
   ]
  },
  {
   "cell_type": "code",
   "execution_count": 95,
   "id": "71f8e81d",
   "metadata": {},
   "outputs": [
    {
     "data": {
      "text/plain": [
       "OrderedDict([('accounts', 0),\n",
       "             ('orders', 55),\n",
       "             ('products', 272),\n",
       "             ('student', 5),\n",
       "             ('useraddress', 273),\n",
       "             ('users', 513)])"
      ]
     },
     "execution_count": 95,
     "metadata": {},
     "output_type": "execute_result"
    }
   ],
   "source": [
    "from collections import OrderedDict\n",
    "Table_Names1 =OrderedDict(sorted(Table_Names1.items(), key=lambda t: t[0]))\n",
    "Table_Names1"
   ]
  },
  {
   "cell_type": "code",
   "execution_count": 96,
   "id": "a8891dec",
   "metadata": {},
   "outputs": [
    {
     "data": {
      "text/plain": [
       "OrderedDict([('accounts', 0),\n",
       "             ('orders', 106),\n",
       "             ('products', 504),\n",
       "             ('student', 5),\n",
       "             ('useraddress', 505),\n",
       "             ('users', 513)])"
      ]
     },
     "execution_count": 96,
     "metadata": {},
     "output_type": "execute_result"
    }
   ],
   "source": [
    "from collections import OrderedDict\n",
    "Table_Names2 =OrderedDict(sorted(Table_Names2.items(), key=lambda t: t[0]))\n",
    "Table_Names2"
   ]
  },
  {
   "cell_type": "code",
   "execution_count": 97,
   "id": "31bf5bb6",
   "metadata": {},
   "outputs": [
    {
     "name": "stdout",
     "output_type": "stream",
     "text": [
      "[0, 106, 504, 5, 505, 513] [0, 55, 272, 5, 273, 513]\n"
     ]
    }
   ],
   "source": [
    "\n",
    "labels = [i for i in Table_Names2.keys()]\n",
    "#labels\n",
    "source = [i for i in Table_Names2.values()]\n",
    "destination = [i for i in Table_Names1.values()]\n",
    "\n",
    "print(source,destination)"
   ]
  },
  {
   "cell_type": "code",
   "execution_count": 98,
   "id": "f5f3a33e",
   "metadata": {},
   "outputs": [
    {
     "data": {
      "image/png": "[encoded data removed]",
      "text/plain": [
       "<Figure size 432x288 with 1 Axes>"
      ]
     },
     "metadata": {
      "needs_background": "light"
     },
     "output_type": "display_data"
    }
   ],
   "source": [
    "x = np.arange(len(labels))  # the label locations\n",
    "width = 0.35  # the width of the bars\n",
    "\n",
    "fig, ax = plt.subplots()\n",
    "rects1 = ax.bar(x - width/2, source, width, label='Source')\n",
    "rects2 = ax.bar(x + width/2, destination, width, label='Destination')\n",
    "\n",
    "# Add some text for labels, title and custom x-axis tick labels, etc.\n",
    "ax.set_ylabel('Count')\n",
    "ax.set_title('Table count in source and destination')\n",
    "ax.set_xticks(x, labels)\n",
    "ax.legend()\n",
    "\n",
    "ax.bar_label(rects1, padding=3)\n",
    "ax.bar_label(rects2, padding=3)\n",
    "\n",
    "fig.tight_layout()\n",
    "\n",
    "plt.show()"
   ]
  }
 ],
 "metadata": {
  "kernelspec": {
   "display_name": "Python 3 (ipykernel)",
   "language": "python",
   "name": "python3"
  },
  "language_info": {
   "codemirror_mode": {
    "name": "ipython",
    "version": 3
   },
   "file_extension": ".py",
   "mimetype": "text/x-python",
   "name": "python",
   "nbconvert_exporter": "python",
   "pygments_lexer": "ipython3",
   "version": "3.10.1"
  }
 },
 "nbformat": 4,
 "nbformat_minor": 5
}
