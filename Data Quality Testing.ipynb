{
 "cells": [
  {
   "cell_type": "markdown",
   "id": "b2584188",
   "metadata": {},
   "source": [
    " ###Initialize Postgres Connection "
   ]
  },
  {
   "cell_type": "code",
   "execution_count": 34,
   "id": "5ca22d99",
   "metadata": {
    "scrolled": false
   },
   "outputs": [
    {
     "data": {
      "text/plain": [
       "<connection object at 0x17239dbd0; dsn: 'user=root password=xxx dbname=Ecommerce host=solutions-demodb.hevo.me port=5432', closed: 0>"
      ]
     },
     "execution_count": 34,
     "metadata": {},
     "output_type": "execute_result"
    }
   ],
   "source": [
    "import great_expectations as ge\n",
    "\n",
    "import psycopg2 \n",
    "\n",
    "import pandas as pd\n",
    "\n",
    "conn=psycopg2.connect(host='solutions-demodb.hevo.me',port=5432,user='root',password='root',database='Ecommerce')\n",
    "conn"
   ]
  },
  {
   "cell_type": "raw",
   "id": "4e270424",
   "metadata": {},
   "source": []
  },
  {
   "cell_type": "code",
   "execution_count": 39,
   "id": "4ce821bb",
   "metadata": {},
   "outputs": [
    {
     "data": {
      "text/html": [
       "<div>\n",
       "<style scoped>\n",
       "    .dataframe tbody tr th:only-of-type {\n",
       "        vertical-align: middle;\n",
       "    }\n",
       "\n",
       "    .dataframe tbody tr th {\n",
       "        vertical-align: top;\n",
       "    }\n",
       "\n",
       "    .dataframe thead th {\n",
       "        text-align: right;\n",
       "    }\n",
       "</style>\n",
       "<table border=\"1\" class=\"dataframe\">\n",
       "  <thead>\n",
       "    <tr style=\"text-align: right;\">\n",
       "      <th></th>\n",
       "      <th>table_name</th>\n",
       "    </tr>\n",
       "  </thead>\n",
       "  <tbody>\n",
       "    <tr>\n",
       "      <th>0</th>\n",
       "      <td>products</td>\n",
       "    </tr>\n",
       "    <tr>\n",
       "      <th>1</th>\n",
       "      <td>users</td>\n",
       "    </tr>\n",
       "    <tr>\n",
       "      <th>2</th>\n",
       "      <td>useraddress</td>\n",
       "    </tr>\n",
       "    <tr>\n",
       "      <th>3</th>\n",
       "      <td>orders</td>\n",
       "    </tr>\n",
       "  </tbody>\n",
       "</table>\n",
       "</div>"
      ],
      "text/plain": [
       "    table_name\n",
       "0     products\n",
       "1        users\n",
       "2  useraddress\n",
       "3       orders"
      ]
     },
     "execution_count": 39,
     "metadata": {},
     "output_type": "execute_result"
    }
   ],
   "source": [
    "df1 = pd.read_sql_query(\"SELECT table_name  FROM information_schema.tables where table_schema='public'  \",conn)\n",
    "#df1.head(10)"
   ]
  },
  {
   "cell_type": "markdown",
   "id": "cd64cea7",
   "metadata": {},
   "source": [
    "Get count of tables"
   ]
  },
  {
   "cell_type": "code",
   "execution_count": 40,
   "id": "9a980894",
   "metadata": {},
   "outputs": [
    {
     "name": "stdout",
     "output_type": "stream",
     "text": [
      "products\n",
      "users\n",
      "useraddress\n",
      "orders\n"
     ]
    },
    {
     "data": {
      "text/plain": [
       "['products', 'users', 'useraddress', 'orders']"
      ]
     },
     "execution_count": 40,
     "metadata": {},
     "output_type": "execute_result"
    }
   ],
   "source": [
    "Table_Names=[]\n",
    "for i,row in df1.iterrows():\n",
    "    for j,column in row.iteritems():\n",
    "        print (column)\n",
    "        Table_Names.append(column)\n",
    "Table_Names"
   ]
  },
  {
   "cell_type": "code",
   "execution_count": 41,
   "id": "9cbf73a9",
   "metadata": {},
   "outputs": [
    {
     "name": "stdout",
     "output_type": "stream",
     "text": [
      "products\n",
      "500\n",
      "users\n",
      "500\n",
      "useraddress\n",
      "500\n",
      "orders\n",
      "0\n"
     ]
    }
   ],
   "source": [
    "for i in range(len(Table_Names)):\n",
    "    dff = pd.read_sql_query(\"Select * from public.\"+Table_Names[i],conn)\n",
    "    print(Table_Names[i])\n",
    "    print(dff.shape[0])"
   ]
  },
  {
   "cell_type": "code",
   "execution_count": null,
   "id": "56f907d8",
   "metadata": {},
   "outputs": [],
   "source": []
  },
  {
   "cell_type": "code",
   "execution_count": null,
   "id": "a1e378a6",
   "metadata": {},
   "outputs": [],
   "source": []
  },
  {
   "cell_type": "markdown",
   "id": "4e5c6bf3",
   "metadata": {},
   "source": [
    "### Initialize Redshift Connection"
   ]
  },
  {
   "cell_type": "code",
   "execution_count": 51,
   "id": "ad938228",
   "metadata": {},
   "outputs": [],
   "source": [
    "import redshift_connector"
   ]
  },
  {
   "cell_type": "code",
   "execution_count": 54,
   "id": "b10fc819",
   "metadata": {},
   "outputs": [
    {
     "data": {
      "text/plain": [
       "<redshift_connector.core.Connection at 0x1727dae90>"
      ]
     },
     "execution_count": 54,
     "metadata": {},
     "output_type": "execute_result"
    }
   ],
   "source": [
    "conn = redshift_connector.connect(host='demoredshift.hevo.me',user='demo',password='demoDEMO1236'\n",
    "                                 ,port=5439,database='demo')\n",
    "conn"
   ]
  },
  {
   "cell_type": "code",
   "execution_count": 77,
   "id": "5fa4c97e",
   "metadata": {},
   "outputs": [
    {
     "data": {
      "text/html": [
       "<div>\n",
       "<style scoped>\n",
       "    .dataframe tbody tr th:only-of-type {\n",
       "        vertical-align: middle;\n",
       "    }\n",
       "\n",
       "    .dataframe tbody tr th {\n",
       "        vertical-align: top;\n",
       "    }\n",
       "\n",
       "    .dataframe thead th {\n",
       "        text-align: right;\n",
       "    }\n",
       "</style>\n",
       "<table border=\"1\" class=\"dataframe\">\n",
       "  <thead>\n",
       "    <tr style=\"text-align: right;\">\n",
       "      <th></th>\n",
       "      <th>b'tablename'</th>\n",
       "    </tr>\n",
       "  </thead>\n",
       "  <tbody>\n",
       "    <tr>\n",
       "      <th>0</th>\n",
       "      <td>s3_apac</td>\n",
       "    </tr>\n",
       "  </tbody>\n",
       "</table>\n",
       "</div>"
      ],
      "text/plain": [
       "  b'tablename'\n",
       "0      s3_apac"
      ]
     },
     "execution_count": 77,
     "metadata": {},
     "output_type": "execute_result"
    }
   ],
   "source": [
    "df2 = pd.read_sql_query(\"select distinct tablename \\\n",
    "                         from pg_table_def where schemaname='public' and tablename  like   's3_%' \",conn)\n",
    "df2.head(20)"
   ]
  },
  {
   "cell_type": "code",
   "execution_count": null,
   "id": "766a3228",
   "metadata": {},
   "outputs": [],
   "source": []
  },
  {
   "cell_type": "markdown",
   "id": "38249fce",
   "metadata": {},
   "source": [
    "### MYSQL "
   ]
  },
  {
   "cell_type": "code",
   "execution_count": 7,
   "id": "a85f91f0",
   "metadata": {},
   "outputs": [],
   "source": [
    "import mysql.connector as mysql\n",
    "import pandas as pd"
   ]
  },
  {
   "cell_type": "code",
   "execution_count": 6,
   "id": "6843811a",
   "metadata": {},
   "outputs": [],
   "source": [
    "db = mysql.connect(\n",
    "    host = \"solutions-demodb.hevo.me\",\n",
    "    user = \"root\",\n",
    "    passwd = \"root\",\n",
    "    database='Ecommerce'\n",
    ")\n"
   ]
  },
  {
   "cell_type": "code",
   "execution_count": 9,
   "id": "954fbe2a",
   "metadata": {},
   "outputs": [
    {
     "data": {
      "text/html": [
       "<div>\n",
       "<style scoped>\n",
       "    .dataframe tbody tr th:only-of-type {\n",
       "        vertical-align: middle;\n",
       "    }\n",
       "\n",
       "    .dataframe tbody tr th {\n",
       "        vertical-align: top;\n",
       "    }\n",
       "\n",
       "    .dataframe thead th {\n",
       "        text-align: right;\n",
       "    }\n",
       "</style>\n",
       "<table border=\"1\" class=\"dataframe\">\n",
       "  <thead>\n",
       "    <tr style=\"text-align: right;\">\n",
       "      <th></th>\n",
       "      <th>ID</th>\n",
       "      <th>sku</th>\n",
       "      <th>category</th>\n",
       "      <th>description</th>\n",
       "      <th>price</th>\n",
       "      <th>isActive</th>\n",
       "      <th>lastUpdated</th>\n",
       "      <th>countryOfOrigin</th>\n",
       "    </tr>\n",
       "  </thead>\n",
       "  <tbody>\n",
       "    <tr>\n",
       "      <th>0</th>\n",
       "      <td>2</td>\n",
       "      <td>94-627-4318</td>\n",
       "      <td>Beverage</td>\n",
       "      <td>Automotive</td>\n",
       "      <td>641.0</td>\n",
       "      <td>0.0</td>\n",
       "      <td>2020-10-15</td>\n",
       "      <td>India</td>\n",
       "    </tr>\n",
       "    <tr>\n",
       "      <th>1</th>\n",
       "      <td>3</td>\n",
       "      <td>74-796-0764</td>\n",
       "      <td>Electronics</td>\n",
       "      <td>Computers</td>\n",
       "      <td>553.0</td>\n",
       "      <td>0.0</td>\n",
       "      <td>2020-12-08</td>\n",
       "      <td>India</td>\n",
       "    </tr>\n",
       "    <tr>\n",
       "      <th>2</th>\n",
       "      <td>4</td>\n",
       "      <td>49-352-4119</td>\n",
       "      <td>Shoes</td>\n",
       "      <td>Toys</td>\n",
       "      <td>758.0</td>\n",
       "      <td>0.0</td>\n",
       "      <td>2021-05-29</td>\n",
       "      <td>India</td>\n",
       "    </tr>\n",
       "    <tr>\n",
       "      <th>3</th>\n",
       "      <td>5</td>\n",
       "      <td>04-081-4946</td>\n",
       "      <td>Electronics</td>\n",
       "      <td>Grocery</td>\n",
       "      <td>335.0</td>\n",
       "      <td>1.0</td>\n",
       "      <td>2021-02-11</td>\n",
       "      <td>India</td>\n",
       "    </tr>\n",
       "    <tr>\n",
       "      <th>4</th>\n",
       "      <td>6</td>\n",
       "      <td>46-404-3883</td>\n",
       "      <td>Beverage</td>\n",
       "      <td>Electronics</td>\n",
       "      <td>782.0</td>\n",
       "      <td>1.0</td>\n",
       "      <td>2020-06-09</td>\n",
       "      <td>India</td>\n",
       "    </tr>\n",
       "  </tbody>\n",
       "</table>\n",
       "</div>"
      ],
      "text/plain": [
       "   ID          sku     category  description  price  isActive lastUpdated  \\\n",
       "0   2  94-627-4318     Beverage   Automotive  641.0       0.0  2020-10-15   \n",
       "1   3  74-796-0764  Electronics    Computers  553.0       0.0  2020-12-08   \n",
       "2   4  49-352-4119        Shoes         Toys  758.0       0.0  2021-05-29   \n",
       "3   5  04-081-4946  Electronics      Grocery  335.0       1.0  2021-02-11   \n",
       "4   6  46-404-3883     Beverage  Electronics  782.0       1.0  2020-06-09   \n",
       "\n",
       "  countryOfOrigin  \n",
       "0           India  \n",
       "1           India  \n",
       "2           India  \n",
       "3           India  \n",
       "4           India  "
      ]
     },
     "execution_count": 9,
     "metadata": {},
     "output_type": "execute_result"
    }
   ],
   "source": [
    "df = pd.read_sql_query(' SELECT * FROM Ecommerce.Products',db)\n",
    "df.head(5)"
   ]
  },
  {
   "cell_type": "code",
   "execution_count": 46,
   "id": "c0d23724",
   "metadata": {},
   "outputs": [
    {
     "name": "stdout",
     "output_type": "stream",
     "text": [
      "Products\n",
      "Student\n",
      "Users\n",
      "accounts\n",
      "orders\n",
      "userAddress\n"
     ]
    }
   ],
   "source": [
    "dff = pd.read_sql_query('show tables',db)\n",
    "Table_Names2=[]\n",
    "for i,row in dff.iterrows():\n",
    "    for j,column in row.iteritems():\n",
    "        print (column)\n",
    "        Table_Names2.append(column)\n"
   ]
  },
  {
   "cell_type": "code",
   "execution_count": 47,
   "id": "e1a275a3",
   "metadata": {},
   "outputs": [
    {
     "data": {
      "text/plain": [
       "['Products', 'Student', 'Users', 'accounts', 'orders', 'userAddress']"
      ]
     },
     "execution_count": 47,
     "metadata": {},
     "output_type": "execute_result"
    }
   ],
   "source": [
    "Table_Names2"
   ]
  },
  {
   "cell_type": "code",
   "execution_count": 49,
   "id": "6e9a69eb",
   "metadata": {},
   "outputs": [
    {
     "name": "stdout",
     "output_type": "stream",
     "text": [
      "Products\n",
      "504\n",
      "Student\n",
      "5\n",
      "Users\n",
      "513\n",
      "accounts\n",
      "0\n",
      "orders\n",
      "106\n",
      "userAddress\n",
      "505\n"
     ]
    }
   ],
   "source": [
    "for i in range(len(Table_Names2)):\n",
    "    dff = pd.read_sql_query(\"Select * from Ecommerce.\"+Table_Names2[i],db)\n",
    "    print(Table_Names2[i])\n",
    "    print(dff.shape[0])"
   ]
  }
 ],
 "metadata": {
  "kernelspec": {
   "display_name": "Python 3 (ipykernel)",
   "language": "python",
   "name": "python3"
  },
  "language_info": {
   "codemirror_mode": {
    "name": "ipython",
    "version": 3
   },
   "file_extension": ".py",
   "mimetype": "text/x-python",
   "name": "python",
   "nbconvert_exporter": "python",
   "pygments_lexer": "ipython3",
   "version": "3.10.1"
  }
 },
 "nbformat": 4,
 "nbformat_minor": 5
}
